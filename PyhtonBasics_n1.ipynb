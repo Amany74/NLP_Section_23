{
 "cells": [
  {
   "cell_type": "markdown",
   "id": "f5de88c0-b2e6-4b9b-ab8c-ce309c240103",
   "metadata": {},
   "source": [
    "# Pyhton Basics\n",
    "\n",
    "* Variables \n",
    "* Data Types\n",
    "* Casting\n",
    "* I/O in Python\n",
    "* Python Operators \n",
    "* Flow Control\n",
    "* Functions\n",
    "* Object & Class \n",
    "<hr>\n",
    "## 1. Variables"
   ]
  },
  {
   "cell_type": "code",
   "execution_count": 5,
   "id": "714db88a-5328-4df7-9e1e-88444646f473",
   "metadata": {},
   "outputs": [],
   "source": [
    "# Identation \n"
   ]
  },
  {
   "cell_type": "code",
   "execution_count": 6,
   "id": "b6cf86b3-e842-4a7f-804c-28e977ee6a63",
   "metadata": {},
   "outputs": [
    {
     "data": {
      "text/plain": [
       "' \\nhello from \\nnultiple line\\n'"
      ]
     },
     "execution_count": 6,
     "metadata": {},
     "output_type": "execute_result"
    }
   ],
   "source": [
    "x"
   ]
  },
  {
   "cell_type": "code",
   "execution_count": 7,
   "id": "e0d4f99c-45ae-4843-831f-7bfdb3f50a85",
   "metadata": {},
   "outputs": [
    {
     "data": {
      "text/plain": [
       "' \\nthis not a comment \\nBut you can use it as so \\nThis is a string but not assigned to a variable so python will ignore it \\n'"
      ]
     },
     "execution_count": 7,
     "metadata": {},
     "output_type": "execute_result"
    }
   ],
   "source": [
    "    # ** Comments in Python **\n",
    "    # For multiple comments \n",
    "\"\"\" \n",
    "this not a comment \n",
    "    But you can use it as so \n",
    "    This is a string but not assigned to a variable so python will ignore it \n",
    "\"\"\""
   ]
  },
  {
   "cell_type": "code",
   "execution_count": 12,
   "id": "bb005f33-2935-4874-a988-3f6f368ea966",
   "metadata": {},
   "outputs": [
    {
     "data": {
      "text/plain": [
       "float"
      ]
     },
     "execution_count": 12,
     "metadata": {},
     "output_type": "execute_result"
    }
   ],
   "source": [
    "# Define a variable and assign x a value \n",
    "x = 1.2 # Dynamically typed\n",
    "type(x)"
   ]
  },
  {
   "cell_type": "markdown",
   "id": "5d1d2437-0b6e-465d-8d38-a43d160a67c4",
   "metadata": {},
   "source": [
    "<h4 style=\"color:#839cad;\"> Dynamically typed can infer type from values </h4>\n",
    "\n",
    "<hr>\n",
    "\n",
    "## 2. Types in Python :\n",
    "<ul>\n",
    "    <li> Text Type:  str </li>\n",
    "    <li>Numeric Types:\tint, float</li>\n",
    "    <li>Boolean Type:\tbool</li>\n",
    "    <li>Sequence Types:\tlist, tuple </li>\n",
    "    <li>Mapping Type:\tdict </li>\n",
    "    <li>Set Types:\tset </li>\n"
   ]
  },
  {
   "cell_type": "code",
   "execution_count": 14,
   "id": "40641cab-b5c8-42b3-a996-afe2f9343ceb",
   "metadata": {},
   "outputs": [
    {
     "name": "stdout",
     "output_type": "stream",
     "text": [
      "Lang 1 :  Swift\n",
      "Product :  Xbox 500\n",
      "Capital City of England :  London\n",
      "set values :  {'banana', 'cherry', 'apple'}\n"
     ]
    }
   ],
   "source": [
    "# Sequence types : \n",
    "# List : Allow duplicates, changeable, ordered, []\n",
    "languages = [\"Swift\", \"Java\", \"Python\"]\n",
    "print(\"Lang 1 : \",languages[0])\n",
    "\n",
    "\n",
    "# Tuple : Allow duplicates, Not changeable, Ordered, ()\n",
    "product = ('Xbox', 500,11)\n",
    "print(\"Product : \",product[0],product[1])\n",
    "\n",
    "\n",
    "# Dict : Key , value pairs {NO duplicates, changeable, indexed, Unordered } \n",
    "capital_city = {'Nepal': 'Kathmandu', 'Italy': 'Rome', 'England': 'London'}\n",
    "print('Capital City of England : ',capital_city['England'])\n",
    "\n",
    "\n",
    "# Set : unique values { No duplicates, Not changeable but can add values, Unordered }\n",
    "f = {\"apple\", \"banana\", \"cherry\", \"cherry\"}\n",
    "print(\"set values : \",f)\n",
    "# ** You cannot access items in a set by referring to an index or a key. **"
   ]
  },
  {
   "cell_type": "code",
   "execution_count": 16,
   "id": "4ee66e47-cc9a-46e1-a3fb-50b8bb2ce19a",
   "metadata": {},
   "outputs": [],
   "source": [
    "# Changing the Value of a Variable in Python\n",
    "x = 5"
   ]
  },
  {
   "cell_type": "code",
   "execution_count": 17,
   "id": "0cf7e1bb-5dcb-4ef3-b7e2-4d0a7afedeaf",
   "metadata": {},
   "outputs": [
    {
     "data": {
      "text/plain": [
       "'Ahmed'"
      ]
     },
     "execution_count": 17,
     "metadata": {},
     "output_type": "execute_result"
    }
   ],
   "source": [
    "x = \"Ahmed\"\n",
    "x"
   ]
  },
  {
   "cell_type": "code",
   "execution_count": 18,
   "id": "9c80fbe9-5e7d-43e8-a6e3-55b228703d11",
   "metadata": {},
   "outputs": [
    {
     "name": "stdout",
     "output_type": "stream",
     "text": [
      " x :  10 \n",
      " y :  20 \n",
      " z :  30\n"
     ]
    }
   ],
   "source": [
    "# assigning multiple values to multiple variables\n",
    "x,y,z = 10,20,30\n",
    "print(\" x : \" , x , \"\\n y : \" , y , \"\\n z : \" , z) "
   ]
  },
  {
   "cell_type": "code",
   "execution_count": 19,
   "id": "56e946f0-03e1-4e47-8691-216faf0fc5fa",
   "metadata": {},
   "outputs": [
    {
     "name": "stdout",
     "output_type": "stream",
     "text": [
      " x :  10 \n",
      " y :  10 \n",
      " z :  10\n"
     ]
    }
   ],
   "source": [
    "# assigning same value to multiple variables\n",
    "x = y = z = 10\n",
    "print(\" x : \" , x , \"\\n y : \" , y , \"\\n z : \" , z) "
   ]
  },
  {
   "cell_type": "markdown",
   "id": "8ed5e667-558c-4eb9-a90b-847a90dcdfc7",
   "metadata": {},
   "source": [
    "### Processing Iterables : [Access, Add, Remove, Change, Loop]\n",
    "\n",
    "<hr> \n",
    "\n",
    "* ### List "
   ]
  },
  {
   "cell_type": "code",
   "execution_count": 26,
   "id": "92cc2cce-fffe-4233-9b72-5948ebcc22cf",
   "metadata": {},
   "outputs": [
    {
     "name": "stdout",
     "output_type": "stream",
     "text": [
      "Our main List :  ['apple', 'banana', 'cherry']\n",
      "Access First element :  apple\n"
     ]
    }
   ],
   "source": [
    "#1 Access \n",
    "l = [\"apple\", \"banana\", \"cherry\"]\n",
    "print(\"Our main List : \",l)\n",
    "print(\"Access First element : \", l[0]) \n"
   ]
  },
  {
   "cell_type": "code",
   "execution_count": 28,
   "id": "100e76a3-5685-4d56-859e-d56edbfa40a2",
   "metadata": {},
   "outputs": [
    {
     "name": "stdout",
     "output_type": "stream",
     "text": [
      "List after adding :  ['apple', 'banana', 'cherry', 'orange', 'orange']\n"
     ]
    }
   ],
   "source": [
    "\n",
    "#2 Add\n",
    "# At end\n",
    "l.append(\"orange\")\n",
    "print(\"List after adding : \", l) \n"
   ]
  },
  {
   "cell_type": "code",
   "execution_count": 30,
   "id": "e6727b01-92e0-4897-8d2d-c87ea61e1a4b",
   "metadata": {},
   "outputs": [
    {
     "name": "stdout",
     "output_type": "stream",
     "text": [
      "List after adding grape after banana:  ['apple', 'banana', 'grape', 'grape', 'cherry', 'orange', 'orange']\n"
     ]
    }
   ],
   "source": [
    "\n",
    "# At certain position \n",
    "l.insert(2, \"grape\")\n",
    "print(\"List after adding grape after banana: \", l) \n"
   ]
  },
  {
   "cell_type": "code",
   "execution_count": 32,
   "id": "ccf00a39-e28d-4b25-a8e7-a4683032b738",
   "metadata": {},
   "outputs": [
    {
     "name": "stdout",
     "output_type": "stream",
     "text": [
      "List after changing apple to kiwi:  ['Kiwi', 'banana', 'grape', 'grape', 'cherry', 'orange', 'orange']\n"
     ]
    }
   ],
   "source": [
    "\n",
    "#3 Change\n",
    "l[0] = \"Kiwi\"\n",
    "print(\"List after changing apple to kiwi: \", l) \n"
   ]
  },
  {
   "cell_type": "code",
   "execution_count": 35,
   "id": "0a1f84c1-73a5-4615-bdfc-c2a3a451bc9b",
   "metadata": {},
   "outputs": [
    {
     "name": "stdout",
     "output_type": "stream",
     "text": [
      "List after removing certain value :  ['grape', 'grape', 'cherry', 'orange', 'orange']\n"
     ]
    }
   ],
   "source": [
    "\n",
    "#4 Delete certain value\n",
    "l.remove(\"Kiwi\")\n",
    "print(\"List after removing certain value : \", l) \n"
   ]
  },
  {
   "cell_type": "code",
   "execution_count": null,
   "id": "6702f5f8-6c3e-4df8-b44a-f2d154a5c3ff",
   "metadata": {},
   "outputs": [],
   "source": []
  },
  {
   "cell_type": "code",
   "execution_count": null,
   "id": "0cdcba4d-8881-42fa-8343-3a6b5186b270",
   "metadata": {},
   "outputs": [],
   "source": []
  },
  {
   "cell_type": "code",
   "execution_count": 36,
   "id": "c04a1ad6-12f8-4df0-aeb1-1a8cc61ada85",
   "metadata": {},
   "outputs": [
    {
     "name": "stdout",
     "output_type": "stream",
     "text": [
      "popped element :  orange  | List after removing last element :  ['grape', 'grape', 'cherry', 'orange']\n"
     ]
    }
   ],
   "source": [
    "\n",
    "# or remove whatever last element\n",
    "p = l.pop()  \n",
    "print(\"popped element : \",p,\" | List after removing last element : \", l) \n"
   ]
  },
  {
   "cell_type": "code",
   "execution_count": 37,
   "id": "02e8e7be-5322-43c0-a18c-0a89d3466847",
   "metadata": {},
   "outputs": [
    {
     "name": "stdout",
     "output_type": "stream",
     "text": [
      "List after removing first element :  ['grape', 'cherry', 'orange']\n"
     ]
    }
   ],
   "source": [
    "# or remove at certain position \n",
    "l.pop(0)  \n",
    "print(\"List after removing first element : \", l) "
   ]
  },
  {
   "cell_type": "markdown",
   "id": "22976f85-52b5-4b79-b580-597e2e226c49",
   "metadata": {},
   "source": [
    "<h3 style=\"color:red;\">💥 Assignment : Repeat the previous cell code on Tuple , Dict and Set .</h3>\n",
    "operations : Access,Add, Change, Remove and loop for Tuple , Dict and Set."
   ]
  },
  {
   "cell_type": "markdown",
   "id": "0b562520-2375-495c-8a5e-f9caa44c3a11",
   "metadata": {},
   "source": [
    " "
   ]
  },
  {
   "cell_type": "markdown",
   "id": "4b2394f4-a79d-4b58-8866-c00ad01e8d1a",
   "metadata": {},
   "source": [
    " "
   ]
  },
  {
   "cell_type": "markdown",
   "id": "a60a22df-82a1-418f-8ca4-80d931c05eef",
   "metadata": {},
   "source": [
    "# 3. Casting (Type Conversion )\n",
    "* **Implicit Conversion**  : automatic type conversion\n",
    "* **Explicit Conversion**  : manual type conversion"
   ]
  },
  {
   "cell_type": "code",
   "execution_count": 40,
   "id": "b1ca65c1-a1df-45cc-b272-fbfb578d63d2",
   "metadata": {},
   "outputs": [
    {
     "name": "stdout",
     "output_type": "stream",
     "text": [
      "Data int number: <class 'int'>\n",
      "Data float number: <class 'float'>\n",
      "Value: 124.23\n",
      "\n",
      "Resulting Data Type: <class 'float'>\n"
     ]
    }
   ],
   "source": [
    "integer_number = 123\n",
    "float_number = 1.23\n",
    "\n",
    "print(\"Data int number:\",type(integer_number))\n",
    "print(\"Data float number:\",type(float_number))\n",
    "new_number = integer_number + float_number\n",
    "\n",
    "# display new value and resulting data type\n",
    "print(\"Value:\",new_number)\n",
    "print(\"\\nResulting Data Type:\",type(new_number))"
   ]
  },
  {
   "cell_type": "code",
   "execution_count": 47,
   "id": "018814a3-e71a-4935-9605-177810226e83",
   "metadata": {},
   "outputs": [
    {
     "data": {
      "text/plain": [
       "'100'"
      ]
     },
     "execution_count": 47,
     "metadata": {},
     "output_type": "execute_result"
    }
   ],
   "source": [
    "# explicit \n",
    "z = '100'\n",
    "z"
   ]
  },
  {
   "cell_type": "code",
   "execution_count": 49,
   "id": "b7c823fb-a805-4295-99f6-7dd875782c22",
   "metadata": {},
   "outputs": [
    {
     "data": {
      "text/plain": [
       "bool"
      ]
     },
     "execution_count": 49,
     "metadata": {},
     "output_type": "execute_result"
    }
   ],
   "source": [
    "z = bool(False)\n",
    "type(z)"
   ]
  },
  {
   "cell_type": "code",
   "execution_count": 46,
   "id": "09e1246a-b8c6-4933-8fb9-bec1fea10d89",
   "metadata": {},
   "outputs": [
    {
     "data": {
      "text/plain": [
       "100"
      ]
     },
     "execution_count": 46,
     "metadata": {},
     "output_type": "execute_result"
    }
   ],
   "source": [
    "z"
   ]
  },
  {
   "cell_type": "markdown",
   "id": "14053f9f-7cb7-494c-9ed4-b00b4aa439b4",
   "metadata": {},
   "source": [
    "## 4. I/O in python (Get User Input)\n",
    "<hr>\n",
    "\n",
    "* #### Output with Print : syntax of the print function accepts 5 parameters\n",
    "    - object - value(s) to be printed\n",
    "    - sep (optional) - allows us to separate multiple objects inside print().\n",
    "    - end (optional) - allows us to add add specific values like new line,tab \n",
    "    - file (optional) - where the values are printed. It's default value is sys.stdout (screen)\n",
    "    - flush (optional) - boolean specifying if the output is flushed or buffered. Default: False"
   ]
  },
  {
   "cell_type": "code",
   "execution_count": 50,
   "id": "2bd37050-99d2-4643-909e-1e5ddc126bce",
   "metadata": {},
   "outputs": [
    {
     "name": "stdout",
     "output_type": "stream",
     "text": [
      "Python is powerful\n",
      "Good Morning!     It is rainy today\n",
      "New Year.2023.See you soon!.1\n"
     ]
    }
   ],
   "source": [
    "print('Python is powerful')\n",
    "\n",
    "# 1 \n",
    "print('Good Morning!', end= '     ')\n",
    "print('It is rainy today')\n",
    "\n",
    "# 2\n",
    "print('New Year', 2023, 'See you soon!',1, sep= '.')\n",
    "\n",
    "# 3 "
   ]
  },
  {
   "cell_type": "code",
   "execution_count": 53,
   "id": "edf7389a-910a-490c-8a85-b6626ee19d0c",
   "metadata": {},
   "outputs": [
    {
     "name": "stdout",
     "output_type": "stream",
     "text": [
      "Python is awesome.\n",
      "python1awesome\n",
      "Python is  awesome.\n",
      "Python  3 500  is awesome.\n",
      "The value of x is 5 and y is 10\n"
     ]
    }
   ],
   "source": [
    "# Printing strings \n",
    "# 1. Concatenated strings +\n",
    "print('Python is ' + 'awesome.')\n",
    "print(\"python\" +  str(1) + \"awesome\")\n",
    "\n",
    "# 2. Concatenate using  ,\n",
    "print('Python is ' , 'awesome.')\n",
    "# used in case of mixing values\n",
    "print('Python ',3,500 , ' is awesome.')\n",
    "\n",
    "# 3. OOutput formating\n",
    "x = 5\n",
    "y = 10\n",
    "\n",
    "print('The value of x is {} and y is {}'.format(x,y))\n"
   ]
  },
  {
   "cell_type": "markdown",
   "id": "3763dde1-5396-4358-9c14-650e730d1e90",
   "metadata": {},
   "source": [
    "* ### Intput"
   ]
  },
  {
   "cell_type": "code",
   "execution_count": 55,
   "id": "d941fb97-d350-43f5-b707-2375be103a82",
   "metadata": {},
   "outputs": [
    {
     "name": "stdin",
     "output_type": "stream",
     "text": [
      "Enter a value 5\n"
     ]
    }
   ],
   "source": [
    "# Get Input \n",
    "x = input(\"Enter a value\")"
   ]
  },
  {
   "cell_type": "code",
   "execution_count": 56,
   "id": "86350394-ed03-4413-88f9-d71f487dc6e7",
   "metadata": {},
   "outputs": [
    {
     "data": {
      "text/plain": [
       "'5'"
      ]
     },
     "execution_count": 56,
     "metadata": {},
     "output_type": "execute_result"
    }
   ],
   "source": [
    "x # But it's a string !"
   ]
  },
  {
   "cell_type": "code",
   "execution_count": 61,
   "id": "d67d475b-e6a7-47a9-a29d-725edb3f3e3a",
   "metadata": {},
   "outputs": [
    {
     "name": "stdin",
     "output_type": "stream",
     "text": [
      "Enter number 10\n"
     ]
    }
   ],
   "source": [
    "y = int(input(\"Enter number\"))"
   ]
  },
  {
   "cell_type": "code",
   "execution_count": 62,
   "id": "93682676-b22b-4eb5-b03f-2e0a9ad10c5b",
   "metadata": {},
   "outputs": [
    {
     "data": {
      "text/plain": [
       "int"
      ]
     },
     "execution_count": 62,
     "metadata": {},
     "output_type": "execute_result"
    }
   ],
   "source": [
    "type(y)"
   ]
  },
  {
   "cell_type": "markdown",
   "id": "cdbf87a0-87de-4c64-821a-a9d1f5335956",
   "metadata": {},
   "source": [
    "# 5. Python Operators\n",
    "\n",
    "<hr> \n",
    "\n",
    "* Arithmetic operators : + - * / // % ** \n",
    "* Assignment Operators : = += -= *= /= //= %= **=\n",
    "* Comparison Operators : > , < , != , >= , <=\n",
    "* Logical Operators    : and , or , not\n",
    "* Special Operators    : Identity operators (is) and memership operators (in)\n",
    "\n",
    "  "
   ]
  },
  {
   "cell_type": "code",
   "execution_count": 134,
   "id": "6f95a3f9-b8dd-42ac-89f3-6de944144aba",
   "metadata": {},
   "outputs": [
    {
     "name": "stdout",
     "output_type": "stream",
     "text": [
      "Sum:  6\n",
      "Subtraction:  2\n",
      "Multiplication:  8\n",
      "Division:  2.0\n",
      "Floor Division:  2\n",
      "Modulo:  0\n",
      "Power:  16\n"
     ]
    }
   ],
   "source": [
    "# Arithmetic operators\n",
    "a = 4\n",
    "b = 2\n",
    "\n",
    "# addition\n",
    "print ('Sum: ', a + b)  \n",
    "\n",
    "# subtraction\n",
    "print ('Subtraction: ', a - b)   \n",
    "\n",
    "# multiplication\n",
    "print ('Multiplication: ', a * b)  \n",
    "\n",
    "# division\n",
    "print ('Division: ', a / b) \n",
    "\n",
    "# floor division\n",
    "print ('Floor Division: ', a // b)\n",
    "\n",
    "# modulo\n",
    "print ('Modulo: ', a % b)  \n",
    "\n",
    "# a to the power b\n",
    "print ('Power: ', a ** b)   "
   ]
  },
  {
   "cell_type": "code",
   "execution_count": 63,
   "id": "8f64605d-1b02-4209-9090-4fbe2a525847",
   "metadata": {},
   "outputs": [
    {
     "data": {
      "text/plain": [
       "5"
      ]
     },
     "execution_count": 63,
     "metadata": {},
     "output_type": "execute_result"
    }
   ],
   "source": [
    "# Assignment operators\n",
    "# assign 5 to x \n",
    "x = 5\n",
    "x"
   ]
  },
  {
   "cell_type": "code",
   "execution_count": 69,
   "id": "642226ac-c401-4a5f-98be-0af19349a0b3",
   "metadata": {},
   "outputs": [
    {
     "name": "stdout",
     "output_type": "stream",
     "text": [
      "0.5\n"
     ]
    }
   ],
   "source": [
    "# assign the sum of x and y to x\n",
    "x = 1\n",
    "y = 2\n",
    "\n",
    "x /= y      # x = x + y\n",
    "\n",
    "print(x)"
   ]
  },
  {
   "cell_type": "code",
   "execution_count": 137,
   "id": "3cda722c-895f-4c50-b137-0f3448043caa",
   "metadata": {},
   "outputs": [
    {
     "name": "stdout",
     "output_type": "stream",
     "text": [
      "a == b = False\n",
      "a != b = True\n",
      "a > b = True\n",
      "a < b = False\n",
      "a >= b = True\n",
      "a <= b = False\n"
     ]
    }
   ],
   "source": [
    "# Comparison Operator\n",
    "\n",
    "a = 5\n",
    "\n",
    "b = 2\n",
    "\n",
    "# equal to operator\n",
    "print('a == b =', a == b)\n",
    "\n",
    "# not equal to operator\n",
    "print('a != b =', a != b)\n",
    "\n",
    "# greater than operator\n",
    "print('a > b =', a > b)\n",
    "\n",
    "# less than operator\n",
    "print('a < b =', a < b)\n",
    "\n",
    "# greater than or equal to operator\n",
    "print('a >= b =', a >= b)\n",
    "\n",
    "# less than or equal to operator\n",
    "print('a <= b =', a <= b)"
   ]
  },
  {
   "cell_type": "code",
   "execution_count": 138,
   "id": "8b4aff2b-0814-4ab8-a8e3-d897ecb59767",
   "metadata": {},
   "outputs": [
    {
     "name": "stdout",
     "output_type": "stream",
     "text": [
      "result :  True\n",
      "True\n",
      "False\n",
      "True\n",
      "False\n"
     ]
    }
   ],
   "source": [
    "# Logical Operator\n",
    "a = 5\n",
    "b = 6\n",
    "print(\"result : \", (a > 2) and (b >= 6))    # True\n",
    "\n",
    "\n",
    "# logical AND\n",
    "print(True and True)     # True\n",
    "print(True and False)    # False\n",
    "\n",
    "# logical OR\n",
    "print(True or False)     # True\n",
    "\n",
    "# logical NOT\n",
    "print(not True)          # False"
   ]
  },
  {
   "cell_type": "code",
   "execution_count": 144,
   "id": "0f8b1a37-50c3-4f30-8fc0-4ddb616fc50e",
   "metadata": {},
   "outputs": [
    {
     "name": "stdout",
     "output_type": "stream",
     "text": [
      "True\n",
      "False\n",
      "True\n",
      "False\n"
     ]
    }
   ],
   "source": [
    "# Identity operators  : is , is not\n",
    "x1 = 5\n",
    "y1 = 5\n",
    "x2 = 'Hello'\n",
    "y2 = 'Hello'\n",
    "x3 = [1,2,3]\n",
    "y3 = [1,2,3]\n",
    "\n",
    "print(x1 is  y1)  # prints True\n",
    "print(x1 is not y1)  # prints False\n",
    "\n",
    "print(x2 is y2)  # prints True\n",
    "\n",
    "print(x3 is y3)  # prints False"
   ]
  },
  {
   "cell_type": "code",
   "execution_count": 74,
   "id": "1e3c5f56-d7e0-4183-bc14-07cd70bb479b",
   "metadata": {},
   "outputs": [
    {
     "name": "stdout",
     "output_type": "stream",
     "text": [
      "True\n"
     ]
    }
   ],
   "source": [
    "# Membership Operators\n",
    "x = 'Hello world'\n",
    "y = {1:'a', 2:'b'}\n",
    "\n",
    "# check if 'H' is present in x string\n",
    "print('Hello' in x)  # prints True"
   ]
  },
  {
   "cell_type": "code",
   "execution_count": 158,
   "id": "74a4c778-202c-4c10-b77d-deb79310596c",
   "metadata": {},
   "outputs": [
    {
     "name": "stdout",
     "output_type": "stream",
     "text": [
      "True\n"
     ]
    }
   ],
   "source": [
    "# check if 'hello' is present in x string\n",
    "print('hello' not in x)  # prints True"
   ]
  },
  {
   "cell_type": "code",
   "execution_count": 76,
   "id": "3a82dff4-fa85-4a1f-9135-7313bea1785e",
   "metadata": {},
   "outputs": [
    {
     "name": "stdout",
     "output_type": "stream",
     "text": [
      "False\n"
     ]
    }
   ],
   "source": [
    "# check if '1' key is present in y\n",
    "print(4 in y)  # prints True"
   ]
  },
  {
   "cell_type": "code",
   "execution_count": 165,
   "id": "50fc10ea-7fcc-4e5d-8d81-11804c490d51",
   "metadata": {},
   "outputs": [
    {
     "name": "stdout",
     "output_type": "stream",
     "text": [
      "False\n"
     ]
    }
   ],
   "source": [
    "# check if 'a' key is present in y\n",
    "print('a' in y)  # prints False"
   ]
  },
  {
   "cell_type": "markdown",
   "id": "844b2d35-f7e1-43cc-991d-44b64acb74d1",
   "metadata": {},
   "source": [
    "# 6. Python Flow Control\n",
    "\n",
    "<hr> \n",
    "\n",
    "*  Python if...else           :  run a block code only when a certain condition is met.\n",
    "*  Python for Loop :  repeat a block of code.\n",
    "*  Python while Loop : Looping\n",
    "*  Python break and continue :Stop or continue flow \n",
    "\n",
    "<hr> \n",
    "\n",
    "  1. IF ELSE \n"
   ]
  },
  {
   "cell_type": "code",
   "execution_count": 83,
   "id": "69b6809d-1bac-43f6-a9ff-d609a3d025fc",
   "metadata": {},
   "outputs": [
    {
     "name": "stdin",
     "output_type": "stream",
     "text": [
      "Enter a number :  -2\n"
     ]
    }
   ],
   "source": [
    "# Ex : Positive or negative no \n",
    "num = int(input(\"Enter a number : \"))\n"
   ]
  },
  {
   "cell_type": "code",
   "execution_count": 81,
   "id": "d68d6343-4105-4ea8-83aa-218ff3fc4c05",
   "metadata": {},
   "outputs": [
    {
     "data": {
      "text/plain": [
       "0"
      ]
     },
     "execution_count": 81,
     "metadata": {},
     "output_type": "execute_result"
    }
   ],
   "source": [
    "num"
   ]
  },
  {
   "cell_type": "code",
   "execution_count": 84,
   "id": "ef00b376-0844-4bce-b4c2-538cd38b581d",
   "metadata": {},
   "outputs": [
    {
     "name": "stdout",
     "output_type": "stream",
     "text": [
      "Number is Negative.\n"
     ]
    }
   ],
   "source": [
    "if num == 0 :\n",
    "    print(\"Zero Value.\")\n",
    "elif num > 0 :\n",
    "    print(\"Number is Positive.\")\n",
    "else:\n",
    "    print(\"Number is Negative.\")"
   ]
  },
  {
   "cell_type": "code",
   "execution_count": 219,
   "id": "def400ad-1dca-459a-8c1c-ae04405ff79e",
   "metadata": {},
   "outputs": [
    {
     "name": "stdin",
     "output_type": "stream",
     "text": [
      "Enter the first number:  20\n",
      "Enter the second number:  10\n",
      "Enter the third number:  30\n"
     ]
    },
    {
     "name": "stdout",
     "output_type": "stream",
     "text": [
      "30 is the maximum number\n"
     ]
    }
   ],
   "source": [
    "# Nested If \n",
    "# Find max of 3 values entered by user \n",
    "num1 = int(input(\"Enter the first number: \"))\n",
    "num2 = int(input(\"Enter the second number: \"))\n",
    "num3 = int(input(\"Enter the third number: \"))\n",
    "\n",
    "if num1 > num2:\n",
    "    if num1 > num3:\n",
    "        print(num1, \"is the maximum number\")\n",
    "    else:\n",
    "        print(num3, \"is the maximum number\")\n",
    "else:\n",
    "    if num2 > num3:\n",
    "        print(num2, \"is the maximum number\")\n",
    "    else:\n",
    "        print(num3, \"is the maximum number\")\n"
   ]
  },
  {
   "cell_type": "markdown",
   "id": "346c5150-57c4-4c56-a92a-46ff504784ba",
   "metadata": {},
   "source": [
    "  2. For Loop "
   ]
  },
  {
   "cell_type": "code",
   "execution_count": 85,
   "id": "7adf3693-d04c-4ea0-835e-08cc2fd21e78",
   "metadata": {},
   "outputs": [
    {
     "name": "stdout",
     "output_type": "stream",
     "text": [
      "Swift\n",
      "Python\n",
      "Go\n",
      "JavaScript\n"
     ]
    }
   ],
   "source": [
    "# What if we need to print 100 line , rewrite ❌ , use loop ✔\n",
    "# Example 1\n",
    "languages = ['Swift', 'Python', 'Go', 'JavaScript']\n",
    "\n",
    "# run a loop for each item of the list\n",
    "for language in languages:\n",
    "    print(language)"
   ]
  },
  {
   "cell_type": "code",
   "execution_count": 87,
   "id": "68a66771-8b58-4c3c-a5c1-cbb3cce10637",
   "metadata": {},
   "outputs": [
    {
     "name": "stdout",
     "output_type": "stream",
     "text": [
      "Swift\n",
      "Python\n",
      "Go\n",
      "JavaScript\n"
     ]
    }
   ],
   "source": [
    "# Example 2\n",
    "langs = ['Swift', 'Python', 'Go', 'JavaScript']\n",
    "\n",
    "# run a loop for each item of the list\n",
    "for i in range( len(langs) ):\n",
    "    print( langs[i] )"
   ]
  },
  {
   "cell_type": "code",
   "execution_count": 88,
   "id": "f2b9afdf-7620-4ae8-9573-765b63ecfcf5",
   "metadata": {},
   "outputs": [
    {
     "data": {
      "text/plain": [
       "4"
      ]
     },
     "execution_count": 88,
     "metadata": {},
     "output_type": "execute_result"
    }
   ],
   "source": [
    "len(langs)"
   ]
  },
  {
   "cell_type": "code",
   "execution_count": 89,
   "id": "9b37d0bd-859e-4b86-a02e-9620f86a4dd9",
   "metadata": {},
   "outputs": [
    {
     "name": "stdout",
     "output_type": "stream",
     "text": [
      "P\n",
      "y\n",
      "t\n",
      "h\n",
      "o\n",
      "n\n"
     ]
    }
   ],
   "source": [
    "# Example 3 loop over a string chars\n",
    "for x in 'Python':\n",
    "    print(x)"
   ]
  },
  {
   "cell_type": "code",
   "execution_count": 90,
   "id": "1c2f4866-c795-458f-a9f4-c3ed5aabd3b2",
   "metadata": {},
   "outputs": [
    {
     "name": "stdout",
     "output_type": "stream",
     "text": [
      "Hi\n",
      "Hi\n",
      "Hi\n",
      "Hi\n"
     ]
    }
   ],
   "source": [
    "# Example 4 : If we do not intend to use items of a sequence within the loop, we can write the loop like this:\n",
    "languages = ['Swift', 'Python', 'Go','1']\n",
    "\n",
    "for _ in languages:\n",
    "    print('Hi')"
   ]
  },
  {
   "cell_type": "markdown",
   "id": "dde78f95-d831-4288-8854-30dae4d6d760",
   "metadata": {},
   "source": [
    "##### Python for loop with else\r\n"
   ]
  },
  {
   "cell_type": "code",
   "execution_count": 91,
   "id": "473575c7-d5d9-4d82-8082-1652f008aee7",
   "metadata": {},
   "outputs": [
    {
     "name": "stdout",
     "output_type": "stream",
     "text": [
      "0\n",
      "1\n",
      "2\n",
      "No items left.\n"
     ]
    }
   ],
   "source": [
    "digits = [0, 1, 2]\n",
    "\n",
    "for i in digits:\n",
    "    print(i)\n",
    "else:\n",
    "    print(\"No items left.\")"
   ]
  },
  {
   "cell_type": "markdown",
   "id": "97d0a485-327b-42b5-8a78-01cfc85772eb",
   "metadata": {},
   "source": [
    "  3. While Loop  : ex in case we don't know the number of Iterations"
   ]
  },
  {
   "cell_type": "code",
   "execution_count": 92,
   "id": "87609c01-e9ce-40f2-98ee-a748b0df5924",
   "metadata": {},
   "outputs": [
    {
     "name": "stdin",
     "output_type": "stream",
     "text": [
      "Enter Number (or 'exit' to stop):  10\n"
     ]
    },
    {
     "name": "stdout",
     "output_type": "stream",
     "text": [
      "Sum =  10\n"
     ]
    },
    {
     "name": "stdin",
     "output_type": "stream",
     "text": [
      "Enter Number (or 'exit' to stop):  20\n"
     ]
    },
    {
     "name": "stdout",
     "output_type": "stream",
     "text": [
      "Sum =  30\n"
     ]
    },
    {
     "name": "stdin",
     "output_type": "stream",
     "text": [
      "Enter Number (or 'exit' to stop):  20\n"
     ]
    },
    {
     "name": "stdout",
     "output_type": "stream",
     "text": [
      "Sum =  50\n"
     ]
    },
    {
     "name": "stdin",
     "output_type": "stream",
     "text": [
      "Enter Number (or 'exit' to stop):  abx\n",
      "Enter Number (or 'exit' to stop):  exit\n"
     ]
    }
   ],
   "source": [
    "# Example 1 : Find sum as long as user enters values or stop on 'exit'\n",
    "sum = 0\n",
    "while True:\n",
    "    user_input = input(\"Enter Number (or 'exit' to stop): \")\n",
    "    \n",
    "    if user_input == 'exit' and not(user_input.isnumeric()):\n",
    "        break\n",
    "    if(user_input.isnumeric()):\n",
    "        sum += int(user_input)\n",
    "        print(\"Sum = \", sum)"
   ]
  },
  {
   "cell_type": "markdown",
   "id": "40e3cdf0-41a7-40e0-9f48-6cfa1e16f13b",
   "metadata": {},
   "source": [
    "####  4. Break and continue\n",
    "* Break : terminate the loop immediately when it is encountered.\n",
    "* Continue :  used to skip the current iteration of the loop and the control flow of the program goes to the next iteration "
   ]
  },
  {
   "cell_type": "code",
   "execution_count": 96,
   "id": "1423e36e-3b10-47b1-a4ec-9569355d0a44",
   "metadata": {},
   "outputs": [
    {
     "name": "stdout",
     "output_type": "stream",
     "text": [
      "0\n",
      "1\n",
      "2\n",
      "3\n",
      "4\n",
      "5\n",
      "6\n",
      "8\n",
      "9\n"
     ]
    }
   ],
   "source": [
    "# Example 1 : loop until 5 only\n",
    "for i in range(10):\n",
    "    if i == 7:\n",
    "        continue # when the loop reaches i=5 it stops\n",
    "    print(i)"
   ]
  },
  {
   "cell_type": "code",
   "execution_count": 97,
   "id": "5f220c8c-e66e-4112-ade4-b01b284d57cc",
   "metadata": {},
   "outputs": [
    {
     "name": "stdout",
     "output_type": "stream",
     "text": [
      "0\n",
      "2\n",
      "4\n",
      "6\n",
      "8\n"
     ]
    }
   ],
   "source": [
    "# Example 2 : Print only even numbers \n",
    "#             In this case we don't need to stop the whole loop\n",
    "#            we just want to skip odd numbers \n",
    "\n",
    "for i in range(10):\n",
    "    if i % 2 != 0:  \n",
    "        continue # when the loop reaches i=5 it stops\n",
    "    print(i)"
   ]
  },
  {
   "cell_type": "markdown",
   "id": "9e61fbd3-1919-488e-bc9a-8f1bf420708f",
   "metadata": {},
   "source": [
    "# 7. Python Functions\r",
    "* Create a function\n",
    "* Call a function\n",
    "* Add Parsmeters (Actual values provided is Arguments. )\n",
    "* Keyword Arguments\n",
    "* Arbitrary Arguments, *args\n",
    "* Arbitrary Keyword Arguments, **kwargs\n",
    "* Default Parameter Value\n",
    "* Passing a List as an Argument\n",
    "* Return Values\n",
    "* Pass Statment (you can pass args or function body)\r\n",
    "\r\n",
    "\r\n",
    "\n"
   ]
  },
  {
   "cell_type": "code",
   "execution_count": 99,
   "id": "a08138ff-c15c-4019-9245-b1aa8676060e",
   "metadata": {},
   "outputs": [],
   "source": [
    "#1  How to create a function \n",
    "def print_person():\n",
    "   pass"
   ]
  },
  {
   "cell_type": "code",
   "execution_count": 104,
   "id": "749593ec-8c2f-4ad2-9cda-caa29e03a9c9",
   "metadata": {},
   "outputs": [],
   "source": [
    "# How to create a function \n",
    "def print_person():\n",
    "   print(\"Hello from func\")"
   ]
  },
  {
   "cell_type": "code",
   "execution_count": 105,
   "id": "d724f072-77d5-4610-98f6-a8a0705e5f82",
   "metadata": {},
   "outputs": [
    {
     "name": "stdout",
     "output_type": "stream",
     "text": [
      "Hello from func\n"
     ]
    }
   ],
   "source": [
    "#2 Call a function \n",
    "print_person()"
   ]
  },
  {
   "cell_type": "code",
   "execution_count": 106,
   "id": "0c22f5a1-802a-4d8c-b4cc-14ee0ec3ea7a",
   "metadata": {},
   "outputs": [],
   "source": [
    "#3 Add Parmeters \n",
    "def print_person(name):\n",
    "   print(\"Hello ,\",name)\n"
   ]
  },
  {
   "cell_type": "code",
   "execution_count": 108,
   "id": "eebb8404-3fd4-48fe-afeb-78c7aaf9df12",
   "metadata": {},
   "outputs": [
    {
     "name": "stdout",
     "output_type": "stream",
     "text": [
      "Hello , Ahmed\n"
     ]
    }
   ],
   "source": [
    "print_person(\"Ahmed\")"
   ]
  },
  {
   "cell_type": "code",
   "execution_count": 109,
   "id": "2bcf2ae0-0a62-431d-86f8-0e5d89f5a254",
   "metadata": {},
   "outputs": [],
   "source": [
    "#4 Keyword Arguments \n",
    "def print_person(name,age):\n",
    "   print(\"Hello ,\",name, \"your age is \", age)\n"
   ]
  },
  {
   "cell_type": "code",
   "execution_count": 110,
   "id": "5563cde0-2bf7-4b9a-bf36-9da59529ac13",
   "metadata": {},
   "outputs": [
    {
     "name": "stdout",
     "output_type": "stream",
     "text": [
      "Hello , Amany your age is  25\n"
     ]
    }
   ],
   "source": [
    "print_person(\"Amany\",age=25)"
   ]
  },
  {
   "cell_type": "code",
   "execution_count": 111,
   "id": "a951424c-0160-437c-ae0f-f5eb9b996e05",
   "metadata": {},
   "outputs": [],
   "source": [
    " #5  Default Parameter Value\n",
    "def print_person(name, age=20):\n",
    "   print(\"Hello ,\", name, \"your age is \", age)\n"
   ]
  },
  {
   "cell_type": "code",
   "execution_count": 112,
   "id": "2b20473a-8576-4561-96df-769045e5f7b8",
   "metadata": {},
   "outputs": [
    {
     "name": "stdout",
     "output_type": "stream",
     "text": [
      "Hello , Amany your age is  20\n"
     ]
    }
   ],
   "source": [
    "print_person(\"Amany\")"
   ]
  },
  {
   "cell_type": "code",
   "execution_count": 113,
   "id": "6a085081-5c72-4c9a-b0b7-35dca58079ee",
   "metadata": {},
   "outputs": [],
   "source": [
    "#6 Arbitrary Arguments (*Args)\n",
    "def print_person(name, age, *hobbies):\n",
    "    print(\"Hello :\", name)\n",
    "    print(\"Your Age:\", age)\n",
    "    print(\"Your hobbies : \")\n",
    "    for hobby in hobbies:\n",
    "        print(hobby)\n",
    "        "
   ]
  },
  {
   "cell_type": "code",
   "execution_count": 116,
   "id": "ca6fd0a7-d2cf-4ad0-8990-fcc6c9ba5090",
   "metadata": {},
   "outputs": [
    {
     "name": "stdout",
     "output_type": "stream",
     "text": [
      "Hello : Amany\n",
      "Your Age: 26\n",
      "Your hobbies : \n",
      "Swimming\n",
      "Drawing\n",
      "Running\n"
     ]
    }
   ],
   "source": [
    "print_person(\"Amany\",26 , \"Swimming\",\"Drawing\",\"Running\")\n",
    "# You can't add a positional keyword arg followed by arbitary values \n"
   ]
  },
  {
   "cell_type": "code",
   "execution_count": 117,
   "id": "5a9a1466-1d4f-40f1-a7f2-b172c891cd8f",
   "metadata": {},
   "outputs": [],
   "source": [
    "#7 Arbitrary Keyword Arguments, **kwargs {entered as dict}\n",
    "def print_person(name, age, *hobbies, **other_info):\n",
    "    print(\"Hello :\", name)\n",
    "    print(\"Your Age:\", age)\n",
    "    print(\"Your hobbies : \")\n",
    "    for hobby in hobbies:\n",
    "        print(hobby)\n",
    "    if other_info:\n",
    "        print(\"Other Info:\")\n",
    "        for key, value in other_info.items():\n",
    "            print(\"- {}: {}\".format(key, value))"
   ]
  },
  {
   "cell_type": "code",
   "execution_count": 118,
   "id": "8e18d1d0-0d86-403b-9e3e-85985a709b82",
   "metadata": {},
   "outputs": [
    {
     "name": "stdout",
     "output_type": "stream",
     "text": [
      "Hello : Amany\n",
      "Your Age: 25\n",
      "Your hobbies : \n",
      "Swimming\n",
      "Drawing\n",
      "Running\n",
      "Other Info:\n",
      "- city: Alex\n"
     ]
    }
   ],
   "source": [
    "print_person(\"Amany\", 25,  \"Swimming\",\"Drawing\",\"Running\", city=\"Alex\")"
   ]
  },
  {
   "cell_type": "code",
   "execution_count": 119,
   "id": "5013c32e-2710-4552-807b-1a5cb3191566",
   "metadata": {},
   "outputs": [
    {
     "name": "stdout",
     "output_type": "stream",
     "text": [
      "Hello : Amany\n",
      "Your Age: 25\n",
      "Your hobbies : \n",
      "Swimming\n",
      "Drawing\n",
      "Running\n",
      "Other Info:\n",
      "- country: Eg\n",
      "- city: Alex\n"
     ]
    }
   ],
   "source": [
    "print_person(\"Amany\", 25,  \"Swimming\",\"Drawing\",\"Running\",country=\"Eg\", city=\"Alex\")"
   ]
  },
  {
   "cell_type": "code",
   "execution_count": 121,
   "id": "1c7639a7-1994-42b1-9b05-13d6d20e93cd",
   "metadata": {},
   "outputs": [
    {
     "name": "stdout",
     "output_type": "stream",
     "text": [
      "Hello : Amany\n",
      "Your Age: 25\n",
      "Your hobbies : \n",
      "Swimming\n",
      "Drawing\n",
      "Running\n",
      "Other Info:\n",
      "- country: Eg\n",
      "- city: Alex\n"
     ]
    }
   ],
   "source": [
    "#8 Passing a list as an argument \n",
    "hobbies = [\"Swimming\",\"Drawing\",\"Running\"]\n",
    "\n",
    "print_person(\"Amany\", 25, *hobbies,country=\"Eg\", city=\"Alex\")"
   ]
  },
  {
   "cell_type": "markdown",
   "id": "a0837c44-8418-42b7-b8c9-8318b0302009",
   "metadata": {},
   "source": [
    "#### What is function is about ?"
   ]
  },
  {
   "cell_type": "code",
   "execution_count": 122,
   "id": "278aa96a-282a-435e-915c-d9cef7546b8d",
   "metadata": {},
   "outputs": [],
   "source": [
    "def print_person(name, age=0, *hobbies, **other_info):\n",
    "    \"\"\"\n",
    "    This function prints out information about a person, including their name, age, hobbies, and other information.\n",
    "    \n",
    "    Parameters:\n",
    "    name (str): The name of the person.\n",
    "    age (int, optional): The age of the person (default is 0).\n",
    "    *hobbies (str): Any number of hobbies as arbitrary arguments.\n",
    "    **other_info (str, any): Any number of other key-value pairs as arbitrary keyword arguments.\n",
    "    \"\"\"\n",
    "    print(\"Hello :\", name)\n",
    "    print(\"Your Age:\", age)\n",
    "    print(\"Your hobbies : \")\n",
    "    for hobby in hobbies:\n",
    "        print(hobby)\n",
    "    if other_info:\n",
    "        print(\"Other Info:\")\n",
    "        for key, value in other_info.items():\n",
    "            print(\"- {}: {}\".format(key, value))"
   ]
  },
  {
   "cell_type": "code",
   "execution_count": 299,
   "id": "85edd41a-18df-40d8-9111-e16fb98a8c16",
   "metadata": {},
   "outputs": [
    {
     "data": {
      "text/plain": [
       "'\\n    This function prints out information about a person, including their name, age, hobbies, and other information.\\n    Parameters:\\n    name (str): The name of the person.\\n    age (int, optional): The age of the person (default is 0).\\n    *hobbies (str): Any number of hobbies as arbitrary arguments.\\n    **other_info (str, any): Any number of other key-value pairs as arbitrary keyword arguments.\\n    '"
      ]
     },
     "execution_count": 299,
     "metadata": {},
     "output_type": "execute_result"
    }
   ],
   "source": [
    "print_person.__doc__ \n"
   ]
  },
  {
   "cell_type": "code",
   "execution_count": 324,
   "id": "6c37873b-af3e-40ed-b407-ea39bc52f7cc",
   "metadata": {},
   "outputs": [
    {
     "name": "stdout",
     "output_type": "stream",
     "text": [
      "Help on function print_person in module __main__:\n",
      "\n",
      "print_person(name, age=0, *hobbies, **other_info)\n",
      "    This function prints out information about a person, including their name, age, hobbies, and other information.\n",
      "    Parameters:\n",
      "    name (str): The name of the person.\n",
      "    age (int, optional): The age of the person (default is 0).\n",
      "    *hobbies (str): Any number of hobbies as arbitrary arguments.\n",
      "    **other_info (str, any): Any number of other key-value pairs as arbitrary keyword arguments.\n",
      "\n"
     ]
    }
   ],
   "source": [
    "help(print_person)\n"
   ]
  },
  {
   "cell_type": "markdown",
   "id": "3e77c132-2395-4add-b035-d73438f87d37",
   "metadata": {},
   "source": [
    "Thank You ❤"
   ]
  }
 ],
 "metadata": {
  "kernelspec": {
   "display_name": "Python 3 (ipykernel)",
   "language": "python",
   "name": "python3"
  },
  "language_info": {
   "codemirror_mode": {
    "name": "ipython",
    "version": 3
   },
   "file_extension": ".py",
   "mimetype": "text/x-python",
   "name": "python",
   "nbconvert_exporter": "python",
   "pygments_lexer": "ipython3",
   "version": "3.9.1"
  },
  "widgets": {
   "application/vnd.jupyter.widget-state+json": {
    "state": {},
    "version_major": 2,
    "version_minor": 0
   }
  }
 },
 "nbformat": 4,
 "nbformat_minor": 5
}
